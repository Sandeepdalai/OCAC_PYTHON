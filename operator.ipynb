{
 "cells": [
  {
   "cell_type": "code",
   "execution_count": 1,
   "id": "de7fc2f4-6a41-4e11-b90b-961379d345e4",
   "metadata": {},
   "outputs": [
    {
     "name": "stdout",
     "output_type": "stream",
     "text": [
      "15\n"
     ]
    }
   ],
   "source": [
    "a=7\n",
    "b=9\n",
    "print(a|b)"
   ]
  },
  {
   "cell_type": "code",
   "execution_count": 4,
   "id": "9e690120-a721-427f-b1d4-dddf583ee6ac",
   "metadata": {},
   "outputs": [
    {
     "name": "stdout",
     "output_type": "stream",
     "text": [
      "1\n"
     ]
    }
   ],
   "source": [
    "print(a&b)"
   ]
  },
  {
   "cell_type": "code",
   "execution_count": 5,
   "id": "cc249927-f814-4b89-a9e3-73da0bfbb37a",
   "metadata": {},
   "outputs": [
    {
     "data": {
      "text/plain": [
       "'0b111'"
      ]
     },
     "execution_count": 5,
     "metadata": {},
     "output_type": "execute_result"
    }
   ],
   "source": [
    "bin(a)"
   ]
  },
  {
   "cell_type": "code",
   "execution_count": 6,
   "id": "71450b76-cfc5-4617-a1cf-f49a27fa56d7",
   "metadata": {},
   "outputs": [
    {
     "data": {
      "text/plain": [
       "14"
      ]
     },
     "execution_count": 6,
     "metadata": {},
     "output_type": "execute_result"
    }
   ],
   "source": [
    "11+3"
   ]
  },
  {
   "cell_type": "markdown",
   "id": "5783e051-1a35-486b-8d4b-09dbac0c4468",
   "metadata": {},
   "source": [
    "87-95"
   ]
  },
  {
   "cell_type": "code",
   "execution_count": 7,
   "id": "831f1ae9-5d52-4fc9-a7d6-ac92043b422f",
   "metadata": {},
   "outputs": [
    {
     "data": {
      "text/plain": [
       "39"
      ]
     },
     "execution_count": 7,
     "metadata": {},
     "output_type": "execute_result"
    }
   ],
   "source": [
    "75-36\n"
   ]
  },
  {
   "cell_type": "code",
   "execution_count": 8,
   "id": "fc30cffa-2fc3-4328-abd0-e38870ae4e95",
   "metadata": {},
   "outputs": [
    {
     "data": {
      "text/plain": [
       "-39"
      ]
     },
     "execution_count": 8,
     "metadata": {},
     "output_type": "execute_result"
    }
   ],
   "source": [
    "36-75"
   ]
  },
  {
   "cell_type": "code",
   "execution_count": 9,
   "id": "00eedc45-f388-4c81-9235-56f58dbac816",
   "metadata": {},
   "outputs": [
    {
     "data": {
      "text/plain": [
       "38.2284"
      ]
     },
     "execution_count": 9,
     "metadata": {},
     "output_type": "execute_result"
    }
   ],
   "source": [
    "10.36*3.69"
   ]
  },
  {
   "cell_type": "code",
   "execution_count": 10,
   "id": "c198ff88-7e64-40c1-bf44-870ea4b66a3e",
   "metadata": {},
   "outputs": [
    {
     "data": {
      "text/plain": [
       "'C:\\\\Users\\\\V\\\\python3\\\\sandeep python'"
      ]
     },
     "execution_count": 10,
     "metadata": {},
     "output_type": "execute_result"
    }
   ],
   "source": [
    "pwd"
   ]
  },
  {
   "cell_type": "code",
   "execution_count": 11,
   "id": "8db1eff4-db14-4f73-a264-9bf16302a9ac",
   "metadata": {},
   "outputs": [
    {
     "data": {
      "text/plain": [
       "6.0"
      ]
     },
     "execution_count": 11,
     "metadata": {},
     "output_type": "execute_result"
    }
   ],
   "source": [
    "36/6"
   ]
  },
  {
   "cell_type": "code",
   "execution_count": 12,
   "id": "644cc33c-a199-4dbb-bf50-23caa0762e83",
   "metadata": {},
   "outputs": [
    {
     "data": {
      "text/plain": [
       "0"
      ]
     },
     "execution_count": 12,
     "metadata": {},
     "output_type": "execute_result"
    }
   ],
   "source": [
    "36%6"
   ]
  },
  {
   "cell_type": "code",
   "execution_count": 13,
   "id": "59c16d57-cb1e-44bd-9c06-dc3797eb753e",
   "metadata": {},
   "outputs": [
    {
     "data": {
      "text/plain": [
       "9"
      ]
     },
     "execution_count": 13,
     "metadata": {},
     "output_type": "execute_result"
    }
   ],
   "source": [
    "3**2\n"
   ]
  },
  {
   "cell_type": "code",
   "execution_count": 15,
   "id": "bb4cf97d-91a6-4f92-b1d6-2a4f472f5069",
   "metadata": {},
   "outputs": [
    {
     "ename": "SyntaxError",
     "evalue": "invalid syntax (2528817085.py, line 1)",
     "output_type": "error",
     "traceback": [
      "\u001b[1;36m  Cell \u001b[1;32mIn[15], line 1\u001b[1;36m\u001b[0m\n\u001b[1;33m    3***4\u001b[0m\n\u001b[1;37m       ^\u001b[0m\n\u001b[1;31mSyntaxError\u001b[0m\u001b[1;31m:\u001b[0m invalid syntax\n"
     ]
    }
   ],
   "source": [
    "3***4"
   ]
  },
  {
   "cell_type": "code",
   "execution_count": 16,
   "id": "d93904a8-2e12-4de3-9d20-e6816ce9405d",
   "metadata": {},
   "outputs": [
    {
     "data": {
      "text/plain": [
       "64"
      ]
     },
     "execution_count": 16,
     "metadata": {},
     "output_type": "execute_result"
    }
   ],
   "source": [
    "4**3"
   ]
  },
  {
   "cell_type": "markdown",
   "id": "f90cbf87-ca1a-465d-b268-5b0c4d318e0f",
   "metadata": {},
   "source": [
    "###### "
   ]
  },
  {
   "cell_type": "code",
   "execution_count": 17,
   "id": "3081067c-4966-4cf4-a03f-86c8e3d4643c",
   "metadata": {},
   "outputs": [
    {
     "data": {
      "text/plain": [
       "5.333333333333333"
      ]
     },
     "execution_count": 17,
     "metadata": {},
     "output_type": "execute_result"
    }
   ],
   "source": [
    "16/3"
   ]
  },
  {
   "cell_type": "code",
   "execution_count": 19,
   "id": "fff897e7-489d-4703-a95e-7e78cb67b047",
   "metadata": {},
   "outputs": [
    {
     "name": "stdout",
     "output_type": "stream",
     "text": [
      "48\n",
      "12\n",
      "540\n",
      "1.6666666666666667\n",
      "12\n",
      "<class 'int'>\n",
      "<class 'int'>\n",
      "<class 'int'>\n",
      "<class 'float'>\n",
      "<class 'int'>\n"
     ]
    }
   ],
   "source": [
    "a=30\n",
    "b=18\n",
    "print(a+b)\n",
    "print(a-b)\n",
    "print(a*b)\n",
    "print(a/b)\n",
    "print(a%b)\n",
    "print(type(a+b))\n",
    "print(type(a-b))\n",
    "print(type(a*b))\n",
    "print(type(a/b))\n",
    "print(type(a%b))"
   ]
  },
  {
   "cell_type": "code",
   "execution_count": 22,
   "id": "f630e308-8705-4158-9fd9-2d6ac48beb1c",
   "metadata": {},
   "outputs": [
    {
     "data": {
      "text/plain": [
       "78.0"
      ]
     },
     "execution_count": 22,
     "metadata": {},
     "output_type": "execute_result"
    }
   ],
   "source": [
    "a*b/b+a+b"
   ]
  },
  {
   "cell_type": "code",
   "execution_count": 23,
   "id": "46ddf54d-4843-4ec0-a6c7-00aac454e9cc",
   "metadata": {},
   "outputs": [
    {
     "data": {
      "text/plain": [
       "30.0"
      ]
     },
     "execution_count": 23,
     "metadata": {},
     "output_type": "execute_result"
    }
   ],
   "source": [
    "a*a/a+a-a"
   ]
  },
  {
   "cell_type": "code",
   "execution_count": null,
   "id": "1f7853df-3767-4d59-a270-4730cd9eb26e",
   "metadata": {},
   "outputs": [],
   "source": []
  },
  {
   "cell_type": "code",
   "execution_count": 22,
   "id": "7b611b0f-1486-4d7d-94b8-26a69b50c8bf",
   "metadata": {},
   "outputs": [
    {
     "data": {
      "text/plain": [
       "78.0"
      ]
     },
     "execution_count": 22,
     "metadata": {},
     "output_type": "execute_result"
    }
   ],
   "source": [
    "a*b/b+a+b"
   ]
  },
  {
   "cell_type": "code",
   "execution_count": 24,
   "id": "a612f87e-d83c-4e87-8d50-0093562d364f",
   "metadata": {},
   "outputs": [
    {
     "data": {
      "text/plain": [
       "True"
      ]
     },
     "execution_count": 24,
     "metadata": {},
     "output_type": "execute_result"
    }
   ],
   "source": [
    "36>25"
   ]
  },
  {
   "cell_type": "code",
   "execution_count": 25,
   "id": "a8438cc9-7638-45f7-ae1a-b8b06a2959b6",
   "metadata": {},
   "outputs": [
    {
     "data": {
      "text/plain": [
       "False"
      ]
     },
     "execution_count": 25,
     "metadata": {},
     "output_type": "execute_result"
    }
   ],
   "source": [
    "36<25"
   ]
  },
  {
   "cell_type": "code",
   "execution_count": 26,
   "id": "dc796d09-58b4-421a-84eb-374f481c5e5f",
   "metadata": {},
   "outputs": [
    {
     "data": {
      "text/plain": [
       "False"
      ]
     },
     "execution_count": 26,
     "metadata": {},
     "output_type": "execute_result"
    }
   ],
   "source": [
    "75==35"
   ]
  },
  {
   "cell_type": "code",
   "execution_count": 27,
   "id": "4adbd381-f8c9-4341-9d31-26101eea3dea",
   "metadata": {},
   "outputs": [
    {
     "data": {
      "text/plain": [
       "False"
      ]
     },
     "execution_count": 27,
     "metadata": {},
     "output_type": "execute_result"
    }
   ],
   "source": [
    "45.5==45.36"
   ]
  },
  {
   "cell_type": "code",
   "execution_count": 1,
   "id": "51da8603-e5f7-4f57-b65a-3409ac57757a",
   "metadata": {},
   "outputs": [
    {
     "name": "stdout",
     "output_type": "stream",
     "text": [
      "True\n"
     ]
    }
   ],
   "source": [
    "a=6\n",
    "b=6\n",
    "print(a is b)"
   ]
  },
  {
   "cell_type": "code",
   "execution_count": 6,
   "id": "74cbae83-b776-4fea-adfa-c6ba219a4642",
   "metadata": {},
   "outputs": [
    {
     "name": "stdout",
     "output_type": "stream",
     "text": [
      "False\n"
     ]
    }
   ],
   "source": [
    "a=6\n",
    "b=8\n",
    "print(a is b)"
   ]
  },
  {
   "cell_type": "code",
   "execution_count": 4,
   "id": "f4bd38f8-5f7e-4ccf-8c19-a64c0ba288fd",
   "metadata": {},
   "outputs": [
    {
     "name": "stdout",
     "output_type": "stream",
     "text": [
      "True\n"
     ]
    }
   ],
   "source": [
    "a=\"sandeep\"\n",
    "b=\"sandeep\"\n",
    "print(a is b)"
   ]
  },
  {
   "cell_type": "code",
   "execution_count": 5,
   "id": "3b265ba1-e2b9-4422-a6b2-26c5e7196214",
   "metadata": {},
   "outputs": [
    {
     "name": "stdout",
     "output_type": "stream",
     "text": [
      "False\n"
     ]
    }
   ],
   "source": [
    "a=\"Sandeep\"\n",
    "b=\"sandeep\"\n",
    "print(a is b)"
   ]
  },
  {
   "cell_type": "code",
   "execution_count": 9,
   "id": "b44bb023-299c-4b72-8e09-136ee97a07b1",
   "metadata": {},
   "outputs": [
    {
     "data": {
      "text/plain": [
       "False"
      ]
     },
     "execution_count": 9,
     "metadata": {},
     "output_type": "execute_result"
    }
   ],
   "source": [
    "a=\"sandeep\"\n",
    "'des' in a"
   ]
  },
  {
   "cell_type": "code",
   "execution_count": 10,
   "id": "8be7494a-7163-4b05-bb5b-eab517284140",
   "metadata": {},
   "outputs": [
    {
     "data": {
      "text/plain": [
       "True"
      ]
     },
     "execution_count": 10,
     "metadata": {},
     "output_type": "execute_result"
    }
   ],
   "source": [
    "a=\"sandeep\"\n",
    "'de' in a"
   ]
  },
  {
   "cell_type": "code",
   "execution_count": 13,
   "id": "a2a22ec1-830d-4b83-b568-a23acd8b5b01",
   "metadata": {},
   "outputs": [
    {
     "data": {
      "text/plain": [
       "True"
      ]
     },
     "execution_count": 13,
     "metadata": {},
     "output_type": "execute_result"
    }
   ],
   "source": [
    "st=[1,2,3,4]\n",
    "4 in st"
   ]
  },
  {
   "cell_type": "code",
   "execution_count": 14,
   "id": "d89f1167-35d1-48da-a5b9-307412d15886",
   "metadata": {},
   "outputs": [
    {
     "data": {
      "text/plain": [
       "True"
      ]
     },
     "execution_count": 14,
     "metadata": {},
     "output_type": "execute_result"
    }
   ],
   "source": [
    "st=[1,2,4,4]\n",
    "4 in st"
   ]
  },
  {
   "cell_type": "code",
   "execution_count": 16,
   "id": "c85a6f01-aaee-43b7-994d-e084435a3d2b",
   "metadata": {},
   "outputs": [
    {
     "data": {
      "text/plain": [
       "False"
      ]
     },
     "execution_count": 16,
     "metadata": {},
     "output_type": "execute_result"
    }
   ],
   "source": [
    "st=[1,2,4,4,7]\n",
    "8 in st"
   ]
  },
  {
   "cell_type": "code",
   "execution_count": null,
   "id": "00f7bb41-dc34-4795-a777-3241ae37386e",
   "metadata": {},
   "outputs": [],
   "source": []
  },
  {
   "cell_type": "code",
   "execution_count": null,
   "id": "712f0f54-e583-4363-ba89-847bdab94ab4",
   "metadata": {},
   "outputs": [],
   "source": []
  },
  {
   "cell_type": "code",
   "execution_count": null,
   "id": "a6ae6b8c-bc25-4871-a2de-fa4d62419048",
   "metadata": {},
   "outputs": [],
   "source": []
  },
  {
   "cell_type": "code",
   "execution_count": null,
   "id": "9e2b24c3-7901-43d8-b686-b20e56538e22",
   "metadata": {},
   "outputs": [],
   "source": []
  },
  {
   "cell_type": "code",
   "execution_count": null,
   "id": "2b47c45f-990b-4ee6-8584-6efdd98e781e",
   "metadata": {},
   "outputs": [],
   "source": []
  },
  {
   "cell_type": "code",
   "execution_count": null,
   "id": "ffe68111-ab82-40b4-a817-bf3109bb4963",
   "metadata": {},
   "outputs": [],
   "source": []
  },
  {
   "cell_type": "code",
   "execution_count": null,
   "id": "04120977-411a-4c4f-9e4e-9206eaad459d",
   "metadata": {},
   "outputs": [],
   "source": []
  }
 ],
 "metadata": {
  "kernelspec": {
   "display_name": "Python 3 (ipykernel)",
   "language": "python",
   "name": "python3"
  },
  "language_info": {
   "codemirror_mode": {
    "name": "ipython",
    "version": 3
   },
   "file_extension": ".py",
   "mimetype": "text/x-python",
   "name": "python",
   "nbconvert_exporter": "python",
   "pygments_lexer": "ipython3",
   "version": "3.11.7"
  }
 },
 "nbformat": 4,
 "nbformat_minor": 5
}
