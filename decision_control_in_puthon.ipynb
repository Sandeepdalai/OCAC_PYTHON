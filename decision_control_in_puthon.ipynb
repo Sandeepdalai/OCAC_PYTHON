{
 "cells": [
  {
   "cell_type": "code",
   "execution_count": 1,
   "id": "d33fcbe5-d8d3-4ebd-881a-6141165e5c22",
   "metadata": {},
   "outputs": [
    {
     "data": {
      "text/plain": [
       "'C:\\\\Users\\\\V\\\\python3\\\\sandeep python'"
      ]
     },
     "execution_count": 1,
     "metadata": {},
     "output_type": "execute_result"
    }
   ],
   "source": [
    "pwd"
   ]
  },
  {
   "cell_type": "code",
   "execution_count": 2,
   "id": "8895c6d8-d081-4a8c-80ba-c4b27bc1458b",
   "metadata": {},
   "outputs": [
    {
     "ename": "TypeError",
     "evalue": "unsupported operand type(s) for +: 'int' and 'str'",
     "output_type": "error",
     "traceback": [
      "\u001b[1;31m---------------------------------------------------------------------------\u001b[0m",
      "\u001b[1;31mTypeError\u001b[0m                                 Traceback (most recent call last)",
      "Cell \u001b[1;32mIn[2], line 1\u001b[0m\n\u001b[1;32m----> 1\u001b[0m \u001b[38;5;241m5\u001b[39m\u001b[38;5;241m+\u001b[39m\u001b[38;5;124m\"\u001b[39m\u001b[38;5;124m5\u001b[39m\u001b[38;5;124m\"\u001b[39m\n",
      "\u001b[1;31mTypeError\u001b[0m: unsupported operand type(s) for +: 'int' and 'str'"
     ]
    }
   ],
   "source": [
    "5+\"5\""
   ]
  },
  {
   "cell_type": "code",
   "execution_count": 3,
   "id": "e062194d-d8f7-43b5-b52f-23f838e3e34b",
   "metadata": {},
   "outputs": [
    {
     "data": {
      "text/plain": [
       "10"
      ]
     },
     "execution_count": 3,
     "metadata": {},
     "output_type": "execute_result"
    }
   ],
   "source": [
    "5+5"
   ]
  },
  {
   "cell_type": "code",
   "execution_count": 4,
   "id": "3ef21c57-85ab-447a-914c-05b575de1fe5",
   "metadata": {},
   "outputs": [
    {
     "data": {
      "text/plain": [
       "'55'"
      ]
     },
     "execution_count": 4,
     "metadata": {},
     "output_type": "execute_result"
    }
   ],
   "source": [
    "str(5)+\"5\""
   ]
  },
  {
   "cell_type": "code",
   "execution_count": 5,
   "id": "b2a70a85-b2f3-41fe-8a0e-e550e9590846",
   "metadata": {},
   "outputs": [
    {
     "data": {
      "text/plain": [
       "4"
      ]
     },
     "execution_count": 5,
     "metadata": {},
     "output_type": "execute_result"
    }
   ],
   "source": [
    "x=4.5\n",
    "int(x)"
   ]
  },
  {
   "cell_type": "code",
   "execution_count": 14,
   "id": "57f77293-6c77-46ad-a4a1-b6db1b284dcc",
   "metadata": {},
   "outputs": [
    {
     "ename": "TypeError",
     "evalue": "'int' object is not callable",
     "output_type": "error",
     "traceback": [
      "\u001b[1;31m---------------------------------------------------------------------------\u001b[0m",
      "\u001b[1;31mTypeError\u001b[0m                                 Traceback (most recent call last)",
      "Cell \u001b[1;32mIn[14], line 2\u001b[0m\n\u001b[0;32m      1\u001b[0m x\u001b[38;5;241m=\u001b[39m\u001b[38;5;241m5.3\u001b[39m\n\u001b[1;32m----> 2\u001b[0m \u001b[38;5;28mfloat\u001b[39m(x)\n",
      "\u001b[1;31mTypeError\u001b[0m: 'int' object is not callable"
     ]
    }
   ],
   "source": [
    "x=5.3\n",
    "float(x)"
   ]
  },
  {
   "cell_type": "code",
   "execution_count": 15,
   "id": "faeb0fc9-f38b-41d4-ba9a-b59895d2e486",
   "metadata": {},
   "outputs": [
    {
     "ename": "TypeError",
     "evalue": "'int' object is not callable",
     "output_type": "error",
     "traceback": [
      "\u001b[1;31m---------------------------------------------------------------------------\u001b[0m",
      "\u001b[1;31mTypeError\u001b[0m                                 Traceback (most recent call last)",
      "Cell \u001b[1;32mIn[15], line 2\u001b[0m\n\u001b[0;32m      1\u001b[0m x\u001b[38;5;241m=\u001b[39m\u001b[38;5;241m5.3\u001b[39m\n\u001b[1;32m----> 2\u001b[0m \u001b[38;5;28mfloat\u001b[39m(x)\n",
      "\u001b[1;31mTypeError\u001b[0m: 'int' object is not callable"
     ]
    }
   ],
   "source": [
    "x=5.3\n",
    "float(x)"
   ]
  },
  {
   "cell_type": "code",
   "execution_count": 16,
   "id": "3d06467e-dd8f-4d0e-b04a-951ec93a241c",
   "metadata": {},
   "outputs": [
    {
     "ename": "TypeError",
     "evalue": "'int' object is not callable",
     "output_type": "error",
     "traceback": [
      "\u001b[1;31m---------------------------------------------------------------------------\u001b[0m",
      "\u001b[1;31mTypeError\u001b[0m                                 Traceback (most recent call last)",
      "Cell \u001b[1;32mIn[16], line 1\u001b[0m\n\u001b[1;32m----> 1\u001b[0m y\u001b[38;5;241m=\u001b[39m\u001b[38;5;28mfloat\u001b[39m(x)\n",
      "\u001b[1;31mTypeError\u001b[0m: 'int' object is not callable"
     ]
    }
   ],
   "source": [
    "y=float(x)"
   ]
  },
  {
   "cell_type": "code",
   "execution_count": 17,
   "id": "fe43fe8f-505d-4a68-a681-e69e5dfbe21b",
   "metadata": {},
   "outputs": [
    {
     "data": {
      "text/plain": [
       "str"
      ]
     },
     "execution_count": 17,
     "metadata": {},
     "output_type": "execute_result"
    }
   ],
   "source": [
    "x=\"abc\"\n",
    "type(x)"
   ]
  },
  {
   "cell_type": "code",
   "execution_count": 18,
   "id": "2dc38c01-6e3d-4c70-a5be-e25ca6ef40d4",
   "metadata": {},
   "outputs": [
    {
     "data": {
      "text/plain": [
       "(2.4+0j)"
      ]
     },
     "execution_count": 18,
     "metadata": {},
     "output_type": "execute_result"
    }
   ],
   "source": [
    "x=2.4\n",
    "complex(x)"
   ]
  },
  {
   "cell_type": "code",
   "execution_count": 20,
   "id": "c028e0c1-b5f2-4477-81c5-a36ab9366774",
   "metadata": {},
   "outputs": [
    {
     "data": {
      "text/plain": [
       "True"
      ]
     },
     "execution_count": 20,
     "metadata": {},
     "output_type": "execute_result"
    }
   ],
   "source": [
    "bool(x)"
   ]
  },
  {
   "cell_type": "code",
   "execution_count": 21,
   "id": "213f1f97-8365-4b3f-8133-669485848a65",
   "metadata": {},
   "outputs": [
    {
     "data": {
      "text/plain": [
       "True"
      ]
     },
     "execution_count": 21,
     "metadata": {},
     "output_type": "execute_result"
    }
   ],
   "source": [
    "x=\"abc\"\n",
    "bool(x)"
   ]
  },
  {
   "cell_type": "markdown",
   "id": "57c33a6d-dec8-4271-a495-dbe1588be6a7",
   "metadata": {},
   "source": [
    "x=25\n",
    "bin(x)"
   ]
  },
  {
   "cell_type": "code",
   "execution_count": 22,
   "id": "cc42c4c9-b7c6-47b7-bd0d-b71fa294bc4e",
   "metadata": {},
   "outputs": [
    {
     "data": {
      "text/plain": [
       "'0b11001'"
      ]
     },
     "execution_count": 22,
     "metadata": {},
     "output_type": "execute_result"
    }
   ],
   "source": [
    "x=25\n",
    "bin(x)"
   ]
  },
  {
   "cell_type": "code",
   "execution_count": 23,
   "id": "2c38c5f6-401e-4565-84c2-80d1f22f020b",
   "metadata": {},
   "outputs": [
    {
     "data": {
      "text/plain": [
       "'0o31'"
      ]
     },
     "execution_count": 23,
     "metadata": {},
     "output_type": "execute_result"
    }
   ],
   "source": [
    "oct(x)"
   ]
  },
  {
   "cell_type": "code",
   "execution_count": 26,
   "id": "c35d0b1e",
   "metadata": {},
   "outputs": [
    {
     "name": "stdout",
     "output_type": "stream",
     "text": [
      "enter two number\n"
     ]
    },
    {
     "name": "stdin",
     "output_type": "stream",
     "text": [
      " 3\n",
      " 4\n"
     ]
    },
    {
     "name": "stdout",
     "output_type": "stream",
     "text": [
      "sum is  7\n"
     ]
    }
   ],
   "source": [
    "#program to add two number\n",
    "print(\"enter two number\")\n",
    "a,b=int(input()),int(input())\n",
    "c=a+b\n",
    "print(\"sum is \",c)"
   ]
  },
  {
   "cell_type": "code",
   "execution_count": 26,
   "id": "d7eeab40",
   "metadata": {},
   "outputs": [
    {
     "name": "stdout",
     "output_type": "stream",
     "text": [
      "enter two number\n"
     ]
    },
    {
     "name": "stdin",
     "output_type": "stream",
     "text": [
      " 3\n",
      " 4\n"
     ]
    },
    {
     "name": "stdout",
     "output_type": "stream",
     "text": [
      "sum is  7\n"
     ]
    }
   ],
   "source": []
  },
  {
   "cell_type": "code",
   "execution_count": 30,
   "id": "aa617837-611a-4de0-81cb-f7d53ff4def7",
   "metadata": {},
   "outputs": [
    {
     "name": "stdout",
     "output_type": "stream",
     "text": [
      "hello\n",
      "mysirg\n",
      "bye\n"
     ]
    }
   ],
   "source": [
    "x=2\n",
    "if x>0:\n",
    " print(\"hello\")\n",
    "         print(\"mysirg\")\n",
    "print(\"bye\")    \n",
    "    "
   ]
  },
  {
   "cell_type": "code",
   "execution_count": 28,
   "id": "c727d881",
   "metadata": {},
   "outputs": [
    {
     "name": "stdout",
     "output_type": "stream",
     "text": [
      "bye\n"
     ]
    }
   ],
   "source": [
    "x=-2\n",
    "if x>0:\n",
    "    print(\"hello\")\n",
    "    print(\"mysirg\")\n",
    "print(\"bye\")    \n",
    "    "
   ]
  },
  {
   "cell_type": "code",
   "execution_count": 35,
   "id": "6e53ca9d-4feb-4002-9a76-9ea1092ac96c",
   "metadata": {},
   "outputs": [
    {
     "name": "stdin",
     "output_type": "stream",
     "text": [
      "enter a number   4\n"
     ]
    },
    {
     "name": "stdout",
     "output_type": "stream",
     "text": [
      "positive\n"
     ]
    }
   ],
   "source": [
    "#write a program to check wheather a given number is positive or non positive\n",
    "x=int(input(\"enter a number  \"))\n",
    "if x>0:\n",
    "    print(\"positive\")\n",
    "if x<=0:\n",
    "    print(\"non positive\")"
   ]
  },
  {
   "cell_type": "code",
   "execution_count": 46,
   "id": "fcff1e21",
   "metadata": {},
   "outputs": [
    {
     "name": "stdin",
     "output_type": "stream",
     "text": [
      "enter a number   -3\n"
     ]
    },
    {
     "name": "stdout",
     "output_type": "stream",
     "text": [
      "non positive\n"
     ]
    }
   ],
   "source": [
    "#write a program to check wheather a given number is positive or non positive\n",
    "x=int(input(\"enter a number  \"))\n",
    "if x>0:\n",
    " print(\"positive\")\n",
    "else :\n",
    " print(\"non positive\")"
   ]
  },
  {
   "cell_type": "code",
   "execution_count": 52,
   "id": "77551059-d42b-445c-9c07-524b24e32905",
   "metadata": {},
   "outputs": [
    {
     "name": "stdin",
     "output_type": "stream",
     "text": [
      "enter marks 60\n"
     ]
    },
    {
     "name": "stdout",
     "output_type": "stream",
     "text": [
      "grade-f\n"
     ]
    }
   ],
   "source": [
    "#write a program to print grade obtained in a test. Take marks obtained from user and display the grade\n",
    "x=int(input(\"enter marks\"))\n",
    "if x>90 and x<=100:\n",
    "    print(\"grade-A\")\n",
    "elif x>80 and x<=90 :\n",
    " print(\"grade-B\")\n",
    "elif x>70:\n",
    " print(\"Grade-c\")\n",
    "else :\n",
    " print(\"grade-f\")\n"
   ]
  },
  {
   "cell_type": "code",
   "execution_count": null,
   "id": "c906d512-188c-4cb7-bc9b-555fa733a393",
   "metadata": {},
   "outputs": [],
   "source": [
    "# write a program to check wheather a given number is even or odd\n"
   ]
  },
  {
   "cell_type": "code",
   "execution_count": null,
   "id": "cccd399b-de70-49b5-9b76-7b3d50a86371",
   "metadata": {},
   "outputs": [],
   "source": []
  },
  {
   "cell_type": "code",
   "execution_count": null,
   "id": "89dc491e-ee22-4fbb-b7a9-ad61173cf18a",
   "metadata": {},
   "outputs": [],
   "source": []
  },
  {
   "cell_type": "code",
   "execution_count": null,
   "id": "f79bcbdb-a85b-44f9-9352-8ff2a01d1002",
   "metadata": {},
   "outputs": [],
   "source": []
  },
  {
   "cell_type": "code",
   "execution_count": null,
   "id": "b598dc7c-e04e-4539-b91b-fe0b6f394eae",
   "metadata": {},
   "outputs": [],
   "source": []
  },
  {
   "cell_type": "code",
   "execution_count": null,
   "id": "ca457e0b-562e-4137-aee0-020418642da2",
   "metadata": {},
   "outputs": [],
   "source": []
  }
 ],
 "metadata": {
  "kernelspec": {
   "display_name": "Python 3 (ipykernel)",
   "language": "python",
   "name": "python3"
  },
  "language_info": {
   "codemirror_mode": {
    "name": "ipython",
    "version": 3
   },
   "file_extension": ".py",
   "mimetype": "text/x-python",
   "name": "python",
   "nbconvert_exporter": "python",
   "pygments_lexer": "ipython3",
   "version": "3.11.7"
  }
 },
 "nbformat": 4,
 "nbformat_minor": 5
}
